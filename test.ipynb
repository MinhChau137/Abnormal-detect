{
 "cells": [
  {
   "cell_type": "code",
   "execution_count": null,
   "metadata": {},
   "outputs": [],
   "source": [
    "%pip install tensorflow\n",
    "%pip install sklearn-pandas\n"
   ]
  },
  {
   "cell_type": "code",
   "execution_count": null,
   "metadata": {},
   "outputs": [],
   "source": [
    "import tensorflow as tf\n",
    "import matplotlib.pyplot as plt\n",
    "import numpy as np\n",
    "import pandas as pd\n",
    "from sklearn.preprocessing import MinMaxScaler\n",
    "from sklearn.decomposition import PCA\n",
    "# from sklearn.metrics import confusion_matrix\n",
    "# import itertools\n"
   ]
  },
  {
   "cell_type": "code",
   "execution_count": null,
   "metadata": {},
   "outputs": [],
   "source": [
    "df_test = pd.read_csv('df_test.csv', index_col='timestamp', parse_dates=True)\n",
    "Df_test=df_test.copy()\n",
    "\n",
    "df_train = pd.read_csv('df_train.csv', index_col='timestamp', parse_dates=True)\n",
    "Df_train=df_train.copy()"
   ]
  },
  {
   "cell_type": "code",
   "execution_count": null,
   "metadata": {},
   "outputs": [],
   "source": [
    "sensor_names=Df_test.columns[:-2]\n",
    "\n",
    "scaler = MinMaxScaler(feature_range=(0, 1))\n",
    "scaler = scaler.fit(Df_train[sensor_names]) # use this scaler for test and validation data set\n",
    "\n",
    "test_scaled=scaler.transform(Df_test[sensor_names])\n",
    "train_scaled=scaler.transform(Df_train[sensor_names])\n",
    "pca=PCA(n_components=8).fit(train_scaled) # use this pca for test and validation data set\n",
    "df_test_pca=pd.DataFrame(pca.transform(test_scaled))\n",
    "\n",
    "pcs = ['pc'+str(i+1) for i in range(8)]\n",
    "df_test_pca.columns = pcs\n",
    "df_test_pca['machine_status']=Df_test['machine_status'].values\n",
    "df_test_pca['alarm']=Df_test['alarm'].values\n",
    "df_test_pca.index=Df_test.index\n",
    "df_test=df_test_pca[['pc1','pc2','pc3','pc4','machine_status','alarm']]\n"
   ]
  },
  {
   "cell_type": "code",
   "execution_count": null,
   "metadata": {},
   "outputs": [],
   "source": [
    "# Generate test dataset\n",
    "def generate_seq_single_preFailure(df,failure_time,features_columns,timewindow_for_use,window_len,stride):\n",
    "  '''\n",
    "  Generate the test data set using one machine failure time.\n",
    "  '''\n",
    "  \n",
    "  X = np.empty((1,1,window_len*len(features_columns)), float)\n",
    "  Y=np.empty((1), float)\n",
    "  \n",
    "  windows_start=failure_time-pd.Timedelta(seconds=60*timewindow_for_use[0]) #  mins before the failure time\n",
    "  windows_end=failure_time-pd.Timedelta(seconds=60*timewindow_for_use[1]) #  mins before the failure time\n",
    "  df_prefailure_single_window_feature=df.loc[windows_start:windows_end,features_columns]\n",
    "  df_prefailure_single_window_target=df.loc[windows_start:windows_end,'alarm']\n",
    "    \n",
    "  data=df_prefailure_single_window_feature.to_numpy().tolist()\n",
    "  targets=df_prefailure_single_window_target.tolist()\n",
    "\n",
    "  data_gen=tf.keras.preprocessing.sequence.TimeseriesGenerator(data, targets, window_len,stride=stride,sampling_rate=1,batch_size=1,shuffle=False) # for ploting, do not shuffle the data\n",
    "  \n",
    "  for i in range(len(data_gen)):\n",
    "    x, y = data_gen[i]\n",
    "    x=np.transpose(x).flatten()\n",
    "    x=x.reshape((1,1,len(x)))\n",
    "    X=np.append(X,x,axis=0)\n",
    "    Y=np.append(Y,y/2,axis=0)\n",
    "\n",
    "  return X,Y\n",
    "\n"
   ]
  },
  {
   "cell_type": "code",
   "execution_count": null,
   "metadata": {},
   "outputs": [],
   "source": [
    "failure_time=df_test[df_test['machine_status']==1].index[0]\n",
    "features_columns=df_test.columns.tolist()[:-2]\n",
    "timewindow_for_use=(60*60,5) # 6h-5min\n",
    "window_len=20\n",
    "stride=1\n",
    "X_test,y_test=generate_seq_single_preFailure(df_test,failure_time,features_columns,timewindow_for_use,window_len,stride)\n",
    "\n",
    "id_keep= np.where((y_test == 0) | (y_test ==1))\n",
    "y_test=y_test[id_keep]\n",
    "X_test=X_test[id_keep][:,:]\n",
    "X_test.shape, y_test.shape"
   ]
  },
  {
   "cell_type": "code",
   "execution_count": null,
   "metadata": {},
   "outputs": [],
   "source": [
    "model_1 = tf.keras.models.load_model(\"my_model.h5\")\n"
   ]
  },
  {
   "cell_type": "code",
   "execution_count": null,
   "metadata": {},
   "outputs": [],
   "source": [
    "# evaluation1: loss and accuracy\n",
    "loss,accuracy=model_1.evaluate(X_test,y_test)\n",
    "print(f'Model loss on the test set: {loss:.4f}')\n",
    "print(f'Model accuracy on the test set: {(accuracy*100):.2f}%')\n",
    "\n",
    "# # evaluation2: recall\n",
    "# y_test_preds_1=model_1.predict(X_test).flatten()\n",
    "# y_test_preds_1=y_test_preds_1.flatten()\n",
    "# y_test_preds_1=tf.round(y_test_preds_1)\n",
    "# cm=confusion_matrix(y_test,tf.round(y_test_preds_1))\n",
    "# recall=(cm[1,1])/(cm[1,1]+cm[1,0])\n",
    "# precision=(cm[0,0])/(cm[0,1]+cm[0,0])\n",
    "# print(f'Model recall on the test set: {recall:.4f}') \n",
    "# print(f'Model precison on the test set: {precision:.4f}') \n"
   ]
  },
  {
   "cell_type": "code",
   "execution_count": null,
   "metadata": {},
   "outputs": [],
   "source": [
    "failure_time=df_test[df_test['machine_status']==1].index[0]\n",
    "print('failure time:',failure_time)\n",
    "windows_start=failure_time-pd.Timedelta(seconds=60*timewindow_for_use[0])\n",
    "windows_end=failure_time-pd.Timedelta(seconds=60*timewindow_for_use[1])\n",
    "df_preFailure=df_test.loc[windows_start:windows_end,:]\n",
    "\n",
    "y_test_preds_1=model_1.predict(X_test).flatten()\n",
    "y_test_preds_1=tf.round(y_test_preds_1)\n",
    "df_preFailure['alarm']=np.append(np.zeros(window_len),(y_test_preds_1))\n",
    "\n",
    "df_preFailure[['pc1','pc2','pc3','pc4']].plot(c=\"grey\",figsize=(18,2),legend=None)\n",
    "df_preFailure[df_preFailure['alarm']==1].index.to_list()\n",
    "\n",
    "# vertical lines\n",
    "for xc in df_preFailure[df_preFailure['alarm']==1].index.to_list():\n",
    "  plt.axvline(x=xc,c='red')\n",
    "\n",
    "df_test['machine_status'].plot()\n",
    "plt.xlim([windows_start,windows_end+pd.Timedelta(seconds=60*200)])\n",
    "\n",
    "plt.title(\"60h ahead of the failure\")\n",
    "plt.show()"
   ]
  }
 ],
 "metadata": {
  "kernelspec": {
   "display_name": "Python 3",
   "language": "python",
   "name": "python3"
  },
  "language_info": {
   "codemirror_mode": {
    "name": "ipython",
    "version": 3
   },
   "file_extension": ".py",
   "mimetype": "text/x-python",
   "name": "python",
   "nbconvert_exporter": "python",
   "pygments_lexer": "ipython3",
   "version": "3.10.11"
  },
  "orig_nbformat": 4
 },
 "nbformat": 4,
 "nbformat_minor": 2
}
